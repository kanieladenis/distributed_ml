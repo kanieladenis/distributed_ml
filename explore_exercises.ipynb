{
 "cells": [
  {
   "cell_type": "markdown",
   "id": "8005015c",
   "metadata": {},
   "source": [
    "# Explore Exercises"
   ]
  },
  {
   "cell_type": "markdown",
   "id": "27fa73bd",
   "metadata": {},
   "source": [
    "These exercises should go in a notebook or script named explore.\n",
    "\n",
    "Answer the questions below by using a combination of the techniques discussed in the lesson that you think is appropriate.\n",
    "\n",
    "1. How many different cases are there, by department?\n",
    "2. Does the percentage of cases that are late vary by department?\n",
    "3. On average, how late are the late cases by department?\n",
    "4. What is the service type that is the most late? Just for Parks & Rec?\n",
    "5. For the DSD/Code Enforcement department, what are the most common service request types? Look at other departments too.\n",
    "6. Does whether or not its a weekend matter for when a case is opened/closed?\n",
    "7. On average, how many cases are opened a day for the Customer Service department?\n",
    "8. Does the number of service requests for the solid waste department vary by day of the week?"
   ]
  },
  {
   "cell_type": "code",
   "execution_count": 1,
   "id": "e4f38da0",
   "metadata": {},
   "outputs": [
    {
     "name": "stdout",
     "output_type": "stream",
     "text": [
      "[wrangle.py] reading case.csv\n",
      "[wrangle.py] handling data types\n",
      "[wrangle.py] parsing dates\n",
      "[wrangle.py] adding features\n",
      "[wrangle.py] joining departments\n",
      "\n",
      "df shape: (841704, 20)\n",
      "\n",
      "-RECORD 0------------------------------------\n",
      " case_id              | 1014127332           \n",
      " case_opened_date     | 2018-01-01 00:42:00  \n",
      " case_closed_date     | 2018-01-01 12:29:00  \n",
      " case_due_date        | 2020-09-26 00:42:00  \n",
      " case_late            | false                \n",
      " num_days_late        | -998.5087616000001   \n",
      " case_closed          | true                 \n",
      " service_request_type | Stray Animal         \n",
      " SLA_days             | 999.0                \n",
      " case_status          | Closed               \n",
      " source_id            | svcCRMLS             \n",
      " request_address      | 2315  EL PASO ST,... \n",
      " council_district     | 005                  \n",
      " num_weeks_late       | -142.6441088         \n",
      " zipcode              | 78207                \n",
      " case_age             | 219                  \n",
      " days_to_closed       | 0                    \n",
      " case_lifetime        | 0                    \n",
      " department           | Animal Care Services \n",
      " dept_subject_to_SLA  | true                 \n",
      "only showing top 1 row\n",
      "\n"
     ]
    }
   ],
   "source": [
    "# import needed libraries\n",
    "import warnings\n",
    "warnings.filterwarnings(\"ignore\")\n",
    "\n",
    "import pyspark.sql\n",
    "from pyspark.sql.functions import *\n",
    "\n",
    "import numpy as np\n",
    "import pandas as pd\n",
    "\n",
    "%matplotlib inline\n",
    "import matplotlib.pyplot as plt\n",
    "import seaborn as sns\n",
    "\n",
    "from wrangle import wrangle_311\n",
    "\n",
    "spark = pyspark.sql.SparkSession.builder.getOrCreate()\n",
    "\n",
    "df = wrangle_311(spark)\n",
    "print(\"\\ndf shape: (%d, %d)\\n\" % (df.count(), len(df.columns)))\n",
    "df.show(1, vertical=True)\n"
   ]
  },
  {
   "cell_type": "code",
   "execution_count": 2,
   "id": "5bc9c932",
   "metadata": {},
   "outputs": [
    {
     "name": "stdout",
     "output_type": "stream",
     "text": [
      "[wrangle.py] reading case.csv\n",
      "[wrangle.py] handling data types\n",
      "[wrangle.py] parsing dates\n",
      "[wrangle.py] adding features\n",
      "[wrangle.py] joining departments\n",
      "\n",
      "df shape: (841704, 20)\n",
      "\n",
      "-RECORD 0------------------------------------\n",
      " case_id              | 1014127332           \n",
      " case_opened_date     | 2018-01-01 00:42:00  \n",
      " case_closed_date     | 2018-01-01 12:29:00  \n",
      " case_due_date        | 2020-09-26 00:42:00  \n",
      " case_late            | false                \n",
      " num_days_late        | -998.5087616000001   \n",
      " case_closed          | true                 \n",
      " service_request_type | Stray Animal         \n",
      " SLA_days             | 999.0                \n",
      " case_status          | Closed               \n",
      " source_id            | svcCRMLS             \n",
      " request_address      | 2315  EL PASO ST,... \n",
      " council_district     | 005                  \n",
      " num_weeks_late       | -142.6441088         \n",
      " zipcode              | 78207                \n",
      " case_age             | 219                  \n",
      " days_to_closed       | 0                    \n",
      " case_lifetime        | 0                    \n",
      " department           | Animal Care Services \n",
      " dept_subject_to_SLA  | true                 \n",
      "only showing top 1 row\n",
      "\n"
     ]
    }
   ],
   "source": [
    "# create spark session\n",
    "spark = pyspark.sql.SparkSession.builder.getOrCreate()\n",
    "\n",
    "df = wrangle_311(spark)\n",
    "print(\"\\ndf shape: (%d, %d)\\n\" % (df.count(), len(df.columns)))\n",
    "df.show(1, vertical=True)"
   ]
  },
  {
   "cell_type": "markdown",
   "id": "c9f9f303",
   "metadata": {},
   "source": [
    "## 1. How many different cases are there, by department?"
   ]
  },
  {
   "cell_type": "code",
   "execution_count": 3,
   "id": "dea2751f",
   "metadata": {},
   "outputs": [
    {
     "name": "stdout",
     "output_type": "stream",
     "text": [
      "+--------------------+------+\n",
      "|          department| count|\n",
      "+--------------------+------+\n",
      "|         Solid Waste|279270|\n",
      "|Animal Care Services|116915|\n",
      "|Trans & Cap Impro...| 96193|\n",
      "|  Parks & Recreation| 19907|\n",
      "|    Customer Service|  2849|\n",
      "|        Metro Health|  5163|\n",
      "|        City Council|    33|\n",
      "|DSD/Code Enforcement|321374|\n",
      "+--------------------+------+\n",
      "\n"
     ]
    }
   ],
   "source": [
    "(\n",
    "    df.groupby('department')\n",
    "    .count()\n",
    "    .show()\n",
    ")\n"
   ]
  },
  {
   "cell_type": "code",
   "execution_count": 4,
   "id": "e1e4fa67",
   "metadata": {},
   "outputs": [
    {
     "data": {
      "text/plain": [
       "Text(0.5, 0, 'count')"
      ]
     },
     "execution_count": 4,
     "metadata": {},
     "output_type": "execute_result"
    },
    {
     "data": {
      "image/png": "[encoded data removed]",
      "text/plain": [
       "<Figure size 1008x360 with 1 Axes>"
      ]
     },
     "metadata": {
      "needs_background": "light"
     },
     "output_type": "display_data"
    }
   ],
   "source": [
    "(\n",
    "    df.groupby('department')\n",
    "    .count()\n",
    "    .toPandas()\n",
    "    .set_index('department')['count']\n",
    "    .sort_values(ascending=False)\n",
    "    .plot.barh(width=1, edgecolor='black', figsize=(14,5))\n",
    ")\n",
    "plt.title('Cases by Deparment')\n",
    "plt.ylabel('department')\n",
    "plt.xlabel('count')"
   ]
  },
  {
   "cell_type": "markdown",
   "id": "16e8b04f",
   "metadata": {},
   "source": [
    "## 2. Does the percentage of cases that are late vary by department?"
   ]
  },
  {
   "cell_type": "code",
   "execution_count": 5,
   "id": "1d87f8eb",
   "metadata": {},
   "outputs": [
    {
     "name": "stdout",
     "output_type": "stream",
     "text": [
      "+--------------------+-----+-------+\n",
      "|          department|count|percent|\n",
      "+--------------------+-----+-------+\n",
      "|         Solid Waste|32945|   3.91|\n",
      "|Animal Care Services|23276|   2.77|\n",
      "|Trans & Cap Impro...| 5411|   0.64|\n",
      "|  Parks & Recreation| 3797|   0.45|\n",
      "|    Customer Service| 2010|   0.24|\n",
      "|        Metro Health|  829|    0.1|\n",
      "|DSD/Code Enforcement|26235|   3.12|\n",
      "+--------------------+-----+-------+\n",
      "\n"
     ]
    }
   ],
   "source": [
    "# by department, percentage of late cases ( cases / n_cases)\n",
    "\n",
    "(\n",
    "    df.filter(df.case_late == True)\n",
    "    .groupby('department')\n",
    "    .count()\n",
    "    .withColumn('percent', round(((col('count') / df.count())*100),2))\n",
    "    .show()\n",
    ")"
   ]
  },
  {
   "cell_type": "code",
   "execution_count": 6,
   "id": "f704af3c",
   "metadata": {},
   "outputs": [
    {
     "data": {
      "text/plain": [
       "Text(0.5, 0, 'percent')"
      ]
     },
     "execution_count": 6,
     "metadata": {},
     "output_type": "execute_result"
    },
    {
     "data": {
      "image/png": "[encoded data removed]",
      "text/plain": [
       "<Figure size 1008x360 with 1 Axes>"
      ]
     },
     "metadata": {
      "needs_background": "light"
     },
     "output_type": "display_data"
    }
   ],
   "source": [
    "# by department, percentage of late cases ( cases / n_cases)\n",
    "\n",
    "(\n",
    "    df.filter(df.case_late == True)\n",
    "    .groupby('department')\n",
    "    .count()\n",
    "    .withColumn('percent', round(((col('count') / df.count())*100),2))\n",
    "    .toPandas()\n",
    "    .set_index('department')['percent']\n",
    "    .sort_values(ascending=False)\n",
    "    .plot.barh(width=1, edgecolor='black', figsize=(14,5))\n",
    ")\n",
    "plt.title('Percent of Cases Per Deparement')\n",
    "plt.ylabel('department')\n",
    "plt.xlabel('percent')"
   ]
  },
  {
   "cell_type": "markdown",
   "id": "de90b6df",
   "metadata": {},
   "source": [
    "## 3. On average, how late are the late cases by department?"
   ]
  },
  {
   "cell_type": "code",
   "execution_count": 7,
   "id": "7a70ca70",
   "metadata": {},
   "outputs": [
    {
     "name": "stdout",
     "output_type": "stream",
     "text": [
      "-RECORD 0----------------------------------------------------\n",
      " case_id              | 1014127332                           \n",
      " case_opened_date     | 2018-01-01 00:42:00                  \n",
      " case_closed_date     | 2018-01-01 12:29:00                  \n",
      " case_due_date        | 2020-09-26 00:42:00                  \n",
      " case_late            | false                                \n",
      " num_days_late        | -998.5087616000001                   \n",
      " case_closed          | true                                 \n",
      " service_request_type | Stray Animal                         \n",
      " SLA_days             | 999.0                                \n",
      " case_status          | Closed                               \n",
      " source_id            | svcCRMLS                             \n",
      " request_address      | 2315  EL PASO ST, San Antonio, 78207 \n",
      " council_district     | 005                                  \n",
      " num_weeks_late       | -142.6441088                         \n",
      " zipcode              | 78207                                \n",
      " case_age             | 219                                  \n",
      " days_to_closed       | 0                                    \n",
      " case_lifetime        | 0                                    \n",
      " department           | Animal Care Services                 \n",
      " dept_subject_to_SLA  | true                                 \n",
      "only showing top 1 row\n",
      "\n"
     ]
    }
   ],
   "source": [
    "df.show(1, False, True)"
   ]
  },
  {
   "cell_type": "code",
   "execution_count": 8,
   "id": "5572e2c1",
   "metadata": {},
   "outputs": [
    {
     "name": "stdout",
     "output_type": "stream",
     "text": [
      "+--------------------+-------------+\n",
      "|          department|avg_days_late|\n",
      "+--------------------+-------------+\n",
      "|         Solid Waste|         1583|\n",
      "|Animal Care Services|         1568|\n",
      "|Trans & Cap Impro...|         1564|\n",
      "|  Parks & Recreation|         1589|\n",
      "|    Customer Service|         1574|\n",
      "|        Metro Health|         1476|\n",
      "|DSD/Code Enforcement|         1569|\n",
      "+--------------------+-------------+\n",
      "\n"
     ]
    }
   ],
   "source": [
    "# subgroup for late cases, make column of diff for late cases\n",
    "(\n",
    "    df.filter(df.case_late == True)\n",
    "    .withColumn('days_late', datediff(current_timestamp(), df.case_due_date))\n",
    "    .groupby('department')\n",
    "    .agg(round(mean('days_late')).cast('int').alias('avg_days_late'))\n",
    "    .show()\n",
    ")"
   ]
  },
  {
   "cell_type": "code",
   "execution_count": 9,
   "id": "e34f8ad7",
   "metadata": {},
   "outputs": [
    {
     "data": {
      "text/plain": [
       "Text(0.5, 0, 'average days')"
      ]
     },
     "execution_count": 9,
     "metadata": {},
     "output_type": "execute_result"
    },
    {
     "data": {
      "image/png": "[encoded data removed]",
      "text/plain": [
       "<Figure size 1080x360 with 1 Axes>"
      ]
     },
     "metadata": {
      "needs_background": "light"
     },
     "output_type": "display_data"
    }
   ],
   "source": [
    "# subgroup for late cases, make column of diff for late cases\n",
    "(\n",
    "    df.filter(df.case_late == True)\n",
    "    .withColumn('days_late', datediff(current_timestamp(), df.case_due_date))\n",
    "    .groupby('department')\n",
    "    .agg(round(mean('days_late')).cast('int').alias('avg_days_late'))\n",
    "    .toPandas()\n",
    "    .set_index('department')\n",
    "    .sort_values(by='avg_days_late', ascending=False)\n",
    "    .plot.barh(width=1, edgecolor='black', figsize=(15,5))\n",
    ")\n",
    "plt.title('Average Days Late by Department')\n",
    "plt.ylabel('department')\n",
    "plt.xlabel('average days')"
   ]
  },
  {
   "cell_type": "markdown",
   "id": "3176b029",
   "metadata": {},
   "source": [
    "## 4. What is the service type that is the most late? Just for Parks & Rec?"
   ]
  },
  {
   "cell_type": "code",
   "execution_count": 12,
   "id": "05dbcc27",
   "metadata": {},
   "outputs": [
    {
     "name": "stdout",
     "output_type": "stream",
     "text": [
      "+--------------------------------+-------------+\n",
      "|service_request_type            |avg_days_late|\n",
      "+--------------------------------+-------------+\n",
      "|Tree Removal                    |1672         |\n",
      "|Service Information             |1578         |\n",
      "|Minimum Housing-Owner Occupied  |1493         |\n",
      "|Sign Maintenance                |1560         |\n",
      "|License Renewal Invoice         |1405         |\n",
      "|Sewer Line Broken               |1522         |\n",
      "|Zoning: Multi-Family In Single  |1560         |\n",
      "|Zoning: Setbacks                |1530         |\n",
      "|Permits, Fences                 |1547         |\n",
      "|Certificates of Occupancy       |1486         |\n",
      "|Dead Animal - Misc              |1645         |\n",
      "|General Building Maintenance    |1546         |\n",
      "|Water No Services               |1513         |\n",
      "|Public Right of Way             |1490         |\n",
      "|Brush Missed Pick up            |1685         |\n",
      "|Speed Hump Repairs - Emergency  |1679         |\n",
      "|Sportfield Lighting             |1577         |\n",
      "|Automation Property Damage      |1590         |\n",
      "|Zoning Business in Resident Area|1528         |\n",
      "|Pot Hole Repair                 |1517         |\n",
      "+--------------------------------+-------------+\n",
      "only showing top 20 rows\n",
      "\n"
     ]
    }
   ],
   "source": [
    "# subgroup for late cases, make column of diff for late cases, groupby by service type, select top 5\n",
    "(\n",
    "    df.filter(df.case_late == True)\n",
    "    .withColumn('days_late', datediff(current_timestamp(), df.case_due_date))\n",
    "    .groupby('service_request_type')\n",
    "    .agg(round(mean('days_late')).cast('int').alias('avg_days_late'))\n",
    "    .show(truncate=False)\n",
    ")"
   ]
  },
  {
   "cell_type": "code",
   "execution_count": 23,
   "id": "062271d5",
   "metadata": {},
   "outputs": [
    {
     "data": {
      "text/plain": [
       "service_request_type\n",
       "Organics Property Damage    1861\n",
       "Name: avg_days_late, dtype: int32"
      ]
     },
     "execution_count": 23,
     "metadata": {},
     "output_type": "execute_result"
    }
   ],
   "source": [
    "# for Park and Rec\n",
    "(\n",
    "    df.filter(df.case_late == True)\n",
    "    .withColumn('days_late', datediff(current_timestamp(), df.case_due_date))\n",
    "    .groupby('service_request_type')\n",
    "    .agg(round(mean('days_late')).cast('int').alias('avg_days_late'))\n",
    "    .toPandas()\n",
    "    .set_index('service_request_type')['avg_days_late']\n",
    "    .sort_values(ascending=False)\n",
    "    .head(1)\n",
    ")"
   ]
  },
  {
   "cell_type": "code",
   "execution_count": 22,
   "id": "1a949a41",
   "metadata": {},
   "outputs": [
    {
     "data": {
      "text/plain": [
       "Text(0.5, 0, 'Average Days Late')"
      ]
     },
     "execution_count": 22,
     "metadata": {},
     "output_type": "execute_result"
    },
    {
     "data": {
      "image/png": "[encoded data removed]",
      "text/plain": [
       "<Figure size 1080x360 with 1 Axes>"
      ]
     },
     "metadata": {
      "needs_background": "light"
     },
     "output_type": "display_data"
    }
   ],
   "source": [
    "(\n",
    "    df.filter(df.case_late == True)\n",
    "    .withColumn('days_late', datediff(current_timestamp(), df.case_due_date))\n",
    "    .groupby('service_request_type')\n",
    "    .agg(round(mean('days_late')).cast('int').alias('avg_days_late'))\n",
    "    .toPandas()\n",
    "    .set_index('service_request_type')['avg_days_late']\n",
    "    .sort_values(ascending=False)\n",
    "    .head(5)\n",
    "    .plot.barh(width=1, edgecolor='black', figsize=(15,5))\n",
    ")\n",
    "plt.title('Average Days Late by Service Request Type')\n",
    "plt.ylabel('Service Request Type')\n",
    "plt.xlabel('Average Days Late')"
   ]
  },
  {
   "cell_type": "code",
   "execution_count": 44,
   "id": "0ad6c261",
   "metadata": {},
   "outputs": [
    {
     "data": {
      "text/plain": [
       "Text(0.5, 0, 'Average Days Late')"
      ]
     },
     "execution_count": 44,
     "metadata": {},
     "output_type": "execute_result"
    },
    {
     "data": {
      "image/png": "[encoded data removed]",
      "text/plain": [
       "<Figure size 1080x360 with 1 Axes>"
      ]
     },
     "metadata": {
      "needs_background": "light"
     },
     "output_type": "display_data"
    }
   ],
   "source": [
    "(\n",
    "    df.filter(df.case_late == True)\n",
    "    .withColumn('days_late', datediff(current_timestamp(), df.case_due_date))\n",
    "    .filter(df.department == 'Parks & Recreation')\n",
    "    .groupby('department')\n",
    "    .agg(round(mean('days_late')).cast('int').alias('avg_days_late'))\n",
    "    .toPandas()\n",
    "    .set_index('department')['avg_days_late']\n",
    "    .sort_values(ascending=False)\n",
    "    .head(5)\n",
    "    .plot.barh(width=1, edgecolor='black', figsize=(15,5))\n",
    ")\n",
    "plt.title('Average Days Late by Service Request Type')\n",
    "plt.ylabel('Service Request Type')\n",
    "plt.xlabel('Average Days Late')"
   ]
  },
  {
   "cell_type": "markdown",
   "id": "43bd9fc0",
   "metadata": {},
   "source": [
    "## 5. For the DSD/Code Enforcement department, what are the most common service request types? Look at other departments too."
   ]
  },
  {
   "cell_type": "code",
   "execution_count": 61,
   "id": "26ff4551",
   "metadata": {},
   "outputs": [
    {
     "name": "stdout",
     "output_type": "stream",
     "text": [
      "+--------------------------------------+-----+\n",
      "|service_request_type                  |count|\n",
      "+--------------------------------------+-----+\n",
      "|Minimum Housing-Owner Occupied        |8543 |\n",
      "|Graffiti: Private Property (Corridors)|8525 |\n",
      "|Sewer Line Broken                     |1107 |\n",
      "|Zoning: Multi-Family In Single        |735  |\n",
      "|Zoning: Setbacks                      |809  |\n",
      "|Permits, Fences                       |1137 |\n",
      "|Certificates of Occupancy             |1571 |\n",
      "|Garage Sales No Permit                |2424 |\n",
      "|Water No Services                     |694  |\n",
      "|Animal Investigation Referral         |15   |\n",
      "|CPS Energy Towers                     |511  |\n",
      "|Zoning Business in Resident Area      |2716 |\n",
      "|Graffiti: Traffic Signal Pole         |203  |\n",
      "|Discharge Into Pub. Waters/St         |46   |\n",
      "|Dang. Premises/CL/SEC                 |8004 |\n",
      "|\"Vacant Lot-City (12\"\")\"              |560  |\n",
      "|Right Of Way/Sidewalk Obstruction     |17699|\n",
      "|Boarding Home Inspection              |174  |\n",
      "|Sewer No Connections                  |75   |\n",
      "|Vacant Lot/Overgrown/Trash            |9329 |\n",
      "+--------------------------------------+-----+\n",
      "only showing top 20 rows\n",
      "\n"
     ]
    }
   ],
   "source": [
    "# subgroup by department == DSD/Code Enforcement, select most common request tyope\n",
    "(\n",
    "    df.filter(df.department == \"DSD/Code Enforcement\")\n",
    "    .groupby('service_request_type')\n",
    "    .count()\n",
    "    .show(20, truncate=False)\n",
    ")"
   ]
  },
  {
   "cell_type": "code",
   "execution_count": 68,
   "id": "20a32aed",
   "metadata": {},
   "outputs": [
    {
     "data": {
      "text/plain": [
       "Text(0.5, 0, 'service_type')"
      ]
     },
     "execution_count": 68,
     "metadata": {},
     "output_type": "execute_result"
    },
    {
     "data": {
      "image/png": "[encoded data removed]",
      "text/plain": [
       "<Figure size 1080x360 with 1 Axes>"
      ]
     },
     "metadata": {
      "needs_background": "light"
     },
     "output_type": "display_data"
    }
   ],
   "source": [
    "# subgroup by department == DSD/Code Enforcement, groupby request type and count\n",
    "(\n",
    "    df.filter(df.department == \"DSD/Code Enforcement\")\n",
    "    .groupby('service_request_type')\n",
    "    .count()\n",
    "    .toPandas()\n",
    "    .set_index('service_request_type')['count']\n",
    "    .sort_values(ascending=False)\n",
    "    .head(5)\n",
    "    .plot.barh(width=1, edgecolor='black', figsize=(15,5))\n",
    ")\n",
    "plt.title('Most Common DSD/Code Enforcement Dept Request Type')\n",
    "plt.ylabel('count')\n",
    "plt.xlabel('service_type')"
   ]
  },
  {
   "cell_type": "markdown",
   "id": "b5d9d5d1",
   "metadata": {},
   "source": [
    "## 6. Does whether or not its a weekend matter for when a case is opened/closed?"
   ]
  },
  {
   "cell_type": "code",
   "execution_count": 71,
   "id": "ff3bc14d",
   "metadata": {},
   "outputs": [
    {
     "name": "stdout",
     "output_type": "stream",
     "text": [
      "-RECORD 0----------------------------------------------------\n",
      " case_id              | 1014127332                           \n",
      " case_opened_date     | 2018-01-01 00:42:00                  \n",
      " case_closed_date     | 2018-01-01 12:29:00                  \n",
      " case_due_date        | 2020-09-26 00:42:00                  \n",
      " case_late            | false                                \n",
      " num_days_late        | -998.5087616000001                   \n",
      " case_closed          | true                                 \n",
      " service_request_type | Stray Animal                         \n",
      " SLA_days             | 999.0                                \n",
      " case_status          | Closed                               \n",
      " source_id            | svcCRMLS                             \n",
      " request_address      | 2315  EL PASO ST, San Antonio, 78207 \n",
      " council_district     | 005                                  \n",
      " num_weeks_late       | -142.6441088                         \n",
      " zipcode              | 78207                                \n",
      " case_age             | 219                                  \n",
      " days_to_closed       | 0                                    \n",
      " case_lifetime        | 0                                    \n",
      " department           | Animal Care Services                 \n",
      " dept_subject_to_SLA  | true                                 \n",
      "only showing top 1 row\n",
      "\n"
     ]
    }
   ],
   "source": [
    "df.show(1, vertical=True, truncate=False)"
   ]
  },
  {
   "cell_type": "code",
   "execution_count": 109,
   "id": "e4eba994",
   "metadata": {},
   "outputs": [
    {
     "name": "stdout",
     "output_type": "stream",
     "text": [
      "+------------------------+----------------+----------------+\n",
      "|department              |case_opened_date|case_closed_date|\n",
      "+------------------------+----------------+----------------+\n",
      "|Animal Care Services    |2018-01-01      |2018-01-01      |\n",
      "|Trans & Cap Improvements|2018-01-01      |2018-01-03      |\n",
      "|Trans & Cap Improvements|2018-01-01      |2018-01-02      |\n",
      "|DSD/Code Enforcement    |2018-01-01      |2018-01-02      |\n",
      "|Animal Care Services    |2018-01-01      |2018-01-01      |\n",
      "+------------------------+----------------+----------------+\n",
      "only showing top 5 rows\n",
      "\n"
     ]
    }
   ],
   "source": [
    "cases_by_day = df.select(\n",
    "    \"department\",\n",
    "    date_format(\"case_opened_date\", \"yyyy-MM-dd\").alias(\"case_opened_date\"),\n",
    "    date_format(\"case_closed_date\", \"yyyy-MM-dd\").alias(\"case_closed_date\"),\n",
    ")\n",
    "\n",
    "cases_by_day.show(5, truncate=False)"
   ]
  },
  {
   "cell_type": "code",
   "execution_count": 114,
   "id": "7f03a00d",
   "metadata": {},
   "outputs": [
    {
     "ename": "SyntaxError",
     "evalue": "invalid syntax (<ipython-input-114-8b38007ba261>, line 4)",
     "output_type": "error",
     "traceback": [
      "\u001b[0;36m  File \u001b[0;32m\"<ipython-input-114-8b38007ba261>\"\u001b[0;36m, line \u001b[0;32m4\u001b[0m\n\u001b[0;31m    when((dayofweek(\"case_opened_date\").isin([1,7])) OR (dayofweek(\"case_closed_date\").isin([1,7])), True)\u001b[0m\n\u001b[0m                                                     ^\u001b[0m\n\u001b[0;31mSyntaxError\u001b[0m\u001b[0;31m:\u001b[0m invalid syntax\n"
     ]
    }
   ],
   "source": [
    "# get is_weekend status for closed/opend on weekend\n",
    "(\n",
    "    df.withColumn(\"is_weekend\",\n",
    "                  when((dayofweek(\"case_opened_date\").isin([1,7])) OR (dayofweek(\"case_closed_date\").isin([1,7])), True)\n",
    "                        .otherwise(False))\n",
    "                                                           \n",
    "\n",
    "    .show(5, truncate=False)\n",
    ")"
   ]
  },
  {
   "cell_type": "markdown",
   "id": "3e037266",
   "metadata": {},
   "source": [
    "## 7. On average, how many cases are opened a day for the Customer Service department?"
   ]
  },
  {
   "cell_type": "code",
   "execution_count": null,
   "id": "ef539a14",
   "metadata": {},
   "outputs": [],
   "source": []
  },
  {
   "cell_type": "markdown",
   "id": "52f49b77",
   "metadata": {},
   "source": [
    "## 8. Does the number of service requests for the solid waste department vary by day of the week?"
   ]
  },
  {
   "cell_type": "code",
   "execution_count": null,
   "id": "d3346b2d",
   "metadata": {},
   "outputs": [],
   "source": []
  }
 ],
 "metadata": {
  "kernelspec": {
   "display_name": "Python 3",
   "language": "python",
   "name": "python3"
  },
  "language_info": {
   "codemirror_mode": {
    "name": "ipython",
    "version": 3
   },
   "file_extension": ".py",
   "mimetype": "text/x-python",
   "name": "python",
   "nbconvert_exporter": "python",
   "pygments_lexer": "ipython3",
   "version": "3.8.8"
  }
 },
 "nbformat": 4,
 "nbformat_minor": 5
}
