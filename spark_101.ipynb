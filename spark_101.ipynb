{
 "cells": [
  {
   "cell_type": "markdown",
   "id": "9897e3a0",
   "metadata": {},
   "source": [
    "# Spark 101"
   ]
  },
  {
   "cell_type": "code",
   "execution_count": 138,
   "id": "369b753c",
   "metadata": {},
   "outputs": [],
   "source": [
    "import pyspark\n",
    "spark = pyspark.sql.SparkSession.builder.getOrCreate()\n",
    "\n",
    "import pandas as pd\n",
    "import numpy as np\n",
    "\n",
    "\n",
    "\n",
    "from pyspark.sql.functions import *\n",
    "\n",
    "# Note: The pyspark avg and mean functions are aliases of eachother\n",
    "from pyspark.sql.functions import concat, sum, avg, min, max, count, mean\n",
    "from pyspark.sql.functions import col, expr\n",
    "from pyspark.sql.functions import lit\n",
    "\n",
    "\n",
    "\n"
   ]
  },
  {
   "cell_type": "markdown",
   "id": "6cad059f",
   "metadata": {},
   "source": [
    "## Exercise 1:\n",
    "Within your codeup-data-science directory, create a new repo named spark-exercises. This will be where you do your work for this module. Create a repository on GitHub with the same name, and link your local repository to GitHub.\n",
    "\n",
    "Save this work in your spark-exercises repo. Then add, commit, and push your changes.\n",
    "\n",
    "Create a jupyter notebook or python script named spark101 for this exercise.\n",
    "\n",
    "Create a spark data frame that contains your favorite programming languages.\n",
    "\n",
    "Create a dataframe with one column named language\n",
    "\n",
    "Hint: Start with a pandas dataframe. Maybe use a dictionary?\n",
    "View the schema of the dataframe\n",
    "Output the shape of the dataframe\n",
    "Show the first 5 records in the dataframe"
   ]
  },
  {
   "cell_type": "code",
   "execution_count": 14,
   "id": "fd5ddfe0",
   "metadata": {},
   "outputs": [
    {
     "data": {
      "text/html": [
       "<div>\n",
       "<style scoped>\n",
       "    .dataframe tbody tr th:only-of-type {\n",
       "        vertical-align: middle;\n",
       "    }\n",
       "\n",
       "    .dataframe tbody tr th {\n",
       "        vertical-align: top;\n",
       "    }\n",
       "\n",
       "    .dataframe thead th {\n",
       "        text-align: right;\n",
       "    }\n",
       "</style>\n",
       "<table border=\"1\" class=\"dataframe\">\n",
       "  <thead>\n",
       "    <tr style=\"text-align: right;\">\n",
       "      <th></th>\n",
       "      <th>language</th>\n",
       "    </tr>\n",
       "  </thead>\n",
       "  <tbody>\n",
       "    <tr>\n",
       "      <th>0</th>\n",
       "      <td>english</td>\n",
       "    </tr>\n",
       "    <tr>\n",
       "      <th>1</th>\n",
       "      <td>chicken</td>\n",
       "    </tr>\n",
       "    <tr>\n",
       "      <th>2</th>\n",
       "      <td>python</td>\n",
       "    </tr>\n",
       "    <tr>\n",
       "      <th>3</th>\n",
       "      <td>java</td>\n",
       "    </tr>\n",
       "    <tr>\n",
       "      <th>4</th>\n",
       "      <td>java_script</td>\n",
       "    </tr>\n",
       "  </tbody>\n",
       "</table>\n",
       "</div>"
      ],
      "text/plain": [
       "      language\n",
       "0      english\n",
       "1      chicken\n",
       "2       python\n",
       "3         java\n",
       "4  java_script"
      ]
     },
     "execution_count": 14,
     "metadata": {},
     "output_type": "execute_result"
    }
   ],
   "source": [
    "np.random.seed(123)\n",
    "pandas_dataframe = pd.DataFrame(\n",
    "    dict(language=['english','chicken','python','java','java_script']))\n",
    "pandas_dataframe"
   ]
  },
  {
   "cell_type": "code",
   "execution_count": 15,
   "id": "bc831a8b",
   "metadata": {},
   "outputs": [
    {
     "name": "stdout",
     "output_type": "stream",
     "text": [
      "+-----------+\n",
      "|   language|\n",
      "+-----------+\n",
      "|    english|\n",
      "|    chicken|\n",
      "|     python|\n",
      "|       java|\n",
      "|java_script|\n",
      "+-----------+\n",
      "\n"
     ]
    }
   ],
   "source": [
    "df = spark.createDataFrame(pandas_dataframe)\n",
    "df.show(5)"
   ]
  },
  {
   "cell_type": "code",
   "execution_count": 9,
   "id": "fe82c610",
   "metadata": {},
   "outputs": [
    {
     "name": "stdout",
     "output_type": "stream",
     "text": [
      "+-------+--------+\n",
      "|summary|language|\n",
      "+-------+--------+\n",
      "|  count|      20|\n",
      "|   mean|    null|\n",
      "| stddev|    null|\n",
      "|    min|       h|\n",
      "|    max|       y|\n",
      "+-------+--------+\n",
      "\n"
     ]
    }
   ],
   "source": [
    "df.describe().show()"
   ]
  },
  {
   "cell_type": "code",
   "execution_count": 12,
   "id": "d9fda298",
   "metadata": {},
   "outputs": [
    {
     "name": "stdout",
     "output_type": "stream",
     "text": [
      "DataFrame shape:  20  x  1\n"
     ]
    }
   ],
   "source": [
    "print(\"DataFrame shape: \", df.count(), \" x \", len(df.columns))"
   ]
  },
  {
   "cell_type": "code",
   "execution_count": 17,
   "id": "722eb023",
   "metadata": {},
   "outputs": [
    {
     "name": "stdout",
     "output_type": "stream",
     "text": [
      "root\n",
      " |-- language: string (nullable = true)\n",
      "\n"
     ]
    }
   ],
   "source": [
    "df.printSchema()"
   ]
  },
  {
   "cell_type": "markdown",
   "id": "ab6d495c",
   "metadata": {},
   "source": [
    "# Exercise 2:\n",
    "Load the mpg dataset as a spark dataframe.\n",
    "a. Create 1 column of output that contains a message like the one below for each record:\n",
    "The 1999 audi a4 has a 4 cylinder engine.\n",
    "Hint: You will need to concatenate values that already exist in the data with string literals\n",
    "b. Transform the trans column so that it only contains either manual or auto.\n",
    "Hint: Consider spark string methods and when().otherwise() chaining"
   ]
  },
  {
   "cell_type": "code",
   "execution_count": 20,
   "id": "9044b163",
   "metadata": {},
   "outputs": [
    {
     "name": "stdout",
     "output_type": "stream",
     "text": [
      "+------------+-----+-----+----+---+----------+---+---+---+---+-------+\n",
      "|manufacturer|model|displ|year|cyl|     trans|drv|cty|hwy| fl|  class|\n",
      "+------------+-----+-----+----+---+----------+---+---+---+---+-------+\n",
      "|        audi|   a4|  1.8|1999|  4|  auto(l5)|  f| 18| 29|  p|compact|\n",
      "|        audi|   a4|  1.8|1999|  4|manual(m5)|  f| 21| 29|  p|compact|\n",
      "|        audi|   a4|  2.0|2008|  4|manual(m6)|  f| 20| 31|  p|compact|\n",
      "|        audi|   a4|  2.0|2008|  4|  auto(av)|  f| 21| 30|  p|compact|\n",
      "|        audi|   a4|  2.8|1999|  6|  auto(l5)|  f| 16| 26|  p|compact|\n",
      "+------------+-----+-----+----+---+----------+---+---+---+---+-------+\n",
      "only showing top 5 rows\n",
      "\n"
     ]
    }
   ],
   "source": [
    "import pyspark\n",
    "spark = pyspark.sql.SparkSession.builder.getOrCreate()\n",
    "\n",
    "import pandas as pd\n",
    "import numpy as np\n",
    "\n",
    "from pydataset import data\n",
    "\n",
    "mpg = spark.createDataFrame(data(\"mpg\"))\n",
    "mpg.show(5)"
   ]
  },
  {
   "cell_type": "code",
   "execution_count": 21,
   "id": "6acd4553",
   "metadata": {},
   "outputs": [],
   "source": [
    "mpg.createOrReplaceTempView(\"mpg\")"
   ]
  },
  {
   "cell_type": "markdown",
   "id": "69827c1f",
   "metadata": {},
   "source": [
    "### a. Create 1 column of output that contains a message like the one below for each record:\n",
    "The 1999 audi a4 has a 4 cylinder engine."
   ]
  },
  {
   "cell_type": "code",
   "execution_count": 23,
   "id": "793985eb",
   "metadata": {},
   "outputs": [
    {
     "name": "stdout",
     "output_type": "stream",
     "text": [
      "+---+---+----+\n",
      "|hwy|cty| avg|\n",
      "+---+---+----+\n",
      "| 29| 18|23.5|\n",
      "| 29| 21|25.0|\n",
      "| 31| 20|25.5|\n",
      "| 30| 21|25.5|\n",
      "| 26| 16|21.0|\n",
      "+---+---+----+\n",
      "only showing top 5 rows\n",
      "\n"
     ]
    }
   ],
   "source": [
    "spark.sql(\n",
    "    \"\"\"\n",
    "SELECT hwy, cty, (hwy + cty) / 2 AS avg\n",
    "FROM mpg\n",
    "\"\"\"\n",
    ").show(5)"
   ]
  },
  {
   "cell_type": "code",
   "execution_count": 63,
   "id": "4b53f139",
   "metadata": {},
   "outputs": [],
   "source": [
    "# Note: The pyspark avg and mean functions are aliases of eachother\n",
    "from pyspark.sql.functions import concat, sum, avg, min, max, count, mean\n",
    "from pyspark.sql.functions import lit\n",
    "from pyspark.sql.functions import regexp_extract, regexp_replace\n",
    "from pyspark.sql.functions import when"
   ]
  },
  {
   "cell_type": "code",
   "execution_count": 74,
   "id": "1e21e509",
   "metadata": {},
   "outputs": [
    {
     "name": "stdout",
     "output_type": "stream",
     "text": [
      "+----------------------------------------+\n",
      "|message                                 |\n",
      "+----------------------------------------+\n",
      "|The 1999 audi a4 has a 4 cylinder egine.|\n",
      "|The 1999 audi a4 has a 4 cylinder egine.|\n",
      "|The 2008 audi a4 has a 4 cylinder egine.|\n",
      "|The 2008 audi a4 has a 4 cylinder egine.|\n",
      "|The 1999 audi a4 has a 6 cylinder egine.|\n",
      "+----------------------------------------+\n",
      "only showing top 5 rows\n",
      "\n"
     ]
    }
   ],
   "source": [
    "mpg.select(concat(lit('The '), \n",
    "                  mpg.year,\n",
    "                  lit(' '),\n",
    "                  mpg.manufacturer,\n",
    "                  lit(' '),\n",
    "                  mpg.model,\n",
    "                  lit(' '),\n",
    "                 lit('has a '),\n",
    "                 mpg.cyl,\n",
    "                 lit(' cylinder egine.')).alias('message')).show(5, truncate=False)"
   ]
  },
  {
   "cell_type": "markdown",
   "id": "562b8d33",
   "metadata": {},
   "source": [
    "## b. Transform the trans column so that it only contains either manual or auto.\n",
    "Hint: Consider spark string methods and when().otherwise() chaining"
   ]
  },
  {
   "cell_type": "code",
   "execution_count": 55,
   "id": "a95d8fe8",
   "metadata": {},
   "outputs": [
    {
     "name": "stdout",
     "output_type": "stream",
     "text": [
      "+------------+-----+-----+----+---+----------+---+---+---+---+-------+\n",
      "|manufacturer|model|displ|year|cyl|     trans|drv|cty|hwy| fl|  class|\n",
      "+------------+-----+-----+----+---+----------+---+---+---+---+-------+\n",
      "|        audi|   a4|  1.8|1999|  4|  auto(l5)|  f| 18| 29|  p|compact|\n",
      "|        audi|   a4|  1.8|1999|  4|manual(m5)|  f| 21| 29|  p|compact|\n",
      "|        audi|   a4|  2.0|2008|  4|manual(m6)|  f| 20| 31|  p|compact|\n",
      "|        audi|   a4|  2.0|2008|  4|  auto(av)|  f| 21| 30|  p|compact|\n",
      "|        audi|   a4|  2.8|1999|  6|  auto(l5)|  f| 16| 26|  p|compact|\n",
      "+------------+-----+-----+----+---+----------+---+---+---+---+-------+\n",
      "only showing top 5 rows\n",
      "\n"
     ]
    }
   ],
   "source": [
    "mpg.show(5)"
   ]
  },
  {
   "cell_type": "code",
   "execution_count": 75,
   "id": "5e756d30",
   "metadata": {},
   "outputs": [
    {
     "name": "stdout",
     "output_type": "stream",
     "text": [
      "+----------+-----------+\n",
      "|     trans|manual_auto|\n",
      "+----------+-----------+\n",
      "|  auto(l5)|       auto|\n",
      "|manual(m5)|     manual|\n",
      "|manual(m6)|     manual|\n",
      "|  auto(av)|       auto|\n",
      "|  auto(l5)|       auto|\n",
      "+----------+-----------+\n",
      "only showing top 5 rows\n",
      "\n"
     ]
    }
   ],
   "source": [
    "mpg.select(mpg.trans,when(mpg.trans.like('auto%'), 'auto')\n",
    "          .otherwise('manual').alias('manual_auto')).show(5)"
   ]
  },
  {
   "cell_type": "markdown",
   "id": "d92dc2a8",
   "metadata": {},
   "source": [
    "## Exercise 3:\n",
    "Load the tips dataset as a spark dataframe.\n",
    "### a. What percentage of observations are smokers?\n",
    "Hint: .groupBy() and .withColumn() are useful functions here\n",
    "### b. Create a column that contains the tip percentage\n",
    "Hint: .withColumn() is useful here\n",
    "### c. Calculate the average tip percentage for each combination of sex and smoker.\n",
    "Hint: Chain additional functions off the answer to part b"
   ]
  },
  {
   "cell_type": "code",
   "execution_count": 78,
   "id": "e40c5320",
   "metadata": {},
   "outputs": [
    {
     "data": {
      "text/plain": [
       "DataFrame[total_bill: double, tip: double, sex: string, smoker: string, day: string, time: string, size: bigint]"
      ]
     },
     "execution_count": 78,
     "metadata": {},
     "output_type": "execute_result"
    }
   ],
   "source": [
    "from pydataset import data\n",
    "tips = spark.createDataFrame(data(\"tips\"))\n",
    "tips"
   ]
  },
  {
   "cell_type": "markdown",
   "id": "9dac8a20",
   "metadata": {},
   "source": [
    "### a. What percentage of observations are smokers?\n",
    "Hint: .groupBy() and .withColumn() are useful functions here"
   ]
  },
  {
   "cell_type": "code",
   "execution_count": 79,
   "id": "3c690402",
   "metadata": {},
   "outputs": [
    {
     "name": "stdout",
     "output_type": "stream",
     "text": [
      "+----------+----+------+------+---+------+----+\n",
      "|total_bill| tip|   sex|smoker|day|  time|size|\n",
      "+----------+----+------+------+---+------+----+\n",
      "|     16.99|1.01|Female|    No|Sun|Dinner|   2|\n",
      "|     10.34|1.66|  Male|    No|Sun|Dinner|   3|\n",
      "|     21.01| 3.5|  Male|    No|Sun|Dinner|   3|\n",
      "|     23.68|3.31|  Male|    No|Sun|Dinner|   2|\n",
      "|     24.59|3.61|Female|    No|Sun|Dinner|   4|\n",
      "+----------+----+------+------+---+------+----+\n",
      "only showing top 5 rows\n",
      "\n"
     ]
    }
   ],
   "source": [
    "tips.show(5)"
   ]
  },
  {
   "cell_type": "code",
   "execution_count": 126,
   "id": "28afe989",
   "metadata": {},
   "outputs": [
    {
     "name": "stdout",
     "output_type": "stream",
     "text": [
      "+------+-----+-------------------+\n",
      "|smoker|count|            percent|\n",
      "+------+-----+-------------------+\n",
      "|    No|  151| 0.6188524590163934|\n",
      "|   Yes|   93|0.38114754098360654|\n",
      "+------+-----+-------------------+\n",
      "\n"
     ]
    }
   ],
   "source": [
    "tips.groupBy(\"smoker\").count().withColumn(\"percent\", col(\"count\") / tips.count()).show()"
   ]
  },
  {
   "cell_type": "code",
   "execution_count": 132,
   "id": "646a0350",
   "metadata": {},
   "outputs": [
    {
     "name": "stdout",
     "output_type": "stream",
     "text": [
      "+------+-------+-------------------+\n",
      "|smoker|counter|            percent|\n",
      "+------+-------+-------------------+\n",
      "|    No|    151| 0.6188524590163934|\n",
      "|   Yes|     93|0.38114754098360654|\n",
      "+------+-------+-------------------+\n",
      "\n"
     ]
    }
   ],
   "source": [
    "tips.groupBy(tips.smoker).agg(count(tips.smoker).alias('counter')).withColumn('percent', col('counter') / tips.count()).show()"
   ]
  },
  {
   "cell_type": "markdown",
   "id": "a45802a6",
   "metadata": {},
   "source": [
    "### b. Create a column that contains the tip percentage\n",
    "Hint: .withColumn() is useful here"
   ]
  },
  {
   "cell_type": "code",
   "execution_count": 134,
   "id": "49039aea",
   "metadata": {},
   "outputs": [
    {
     "name": "stdout",
     "output_type": "stream",
     "text": [
      "+----------+----+------+------+---+------+----+\n",
      "|total_bill| tip|   sex|smoker|day|  time|size|\n",
      "+----------+----+------+------+---+------+----+\n",
      "|     16.99|1.01|Female|    No|Sun|Dinner|   2|\n",
      "|     10.34|1.66|  Male|    No|Sun|Dinner|   3|\n",
      "|     21.01| 3.5|  Male|    No|Sun|Dinner|   3|\n",
      "|     23.68|3.31|  Male|    No|Sun|Dinner|   2|\n",
      "|     24.59|3.61|Female|    No|Sun|Dinner|   4|\n",
      "+----------+----+------+------+---+------+----+\n",
      "only showing top 5 rows\n",
      "\n"
     ]
    }
   ],
   "source": [
    "tips.show(5)"
   ]
  },
  {
   "cell_type": "code",
   "execution_count": 148,
   "id": "041bb846",
   "metadata": {},
   "outputs": [
    {
     "name": "stdout",
     "output_type": "stream",
     "text": [
      "+----------+----+------+------+---+------+----+--------------+\n",
      "|total_bill| tip|   sex|smoker|day|  time|size|tip_percentage|\n",
      "+----------+----+------+------+---+------+----+--------------+\n",
      "|     16.99|1.01|Female|    No|Sun|Dinner|   2|          5.94|\n",
      "|     10.34|1.66|  Male|    No|Sun|Dinner|   3|         16.05|\n",
      "|     21.01| 3.5|  Male|    No|Sun|Dinner|   3|         16.66|\n",
      "|     23.68|3.31|  Male|    No|Sun|Dinner|   2|         13.98|\n",
      "|     24.59|3.61|Female|    No|Sun|Dinner|   4|         14.68|\n",
      "|     25.29|4.71|  Male|    No|Sun|Dinner|   4|         18.62|\n",
      "|      8.77| 2.0|  Male|    No|Sun|Dinner|   2|         22.81|\n",
      "|     26.88|3.12|  Male|    No|Sun|Dinner|   4|         11.61|\n",
      "|     15.04|1.96|  Male|    No|Sun|Dinner|   2|         13.03|\n",
      "|     14.78|3.23|  Male|    No|Sun|Dinner|   2|         21.85|\n",
      "|     10.27|1.71|  Male|    No|Sun|Dinner|   2|         16.65|\n",
      "|     35.26| 5.0|Female|    No|Sun|Dinner|   4|         14.18|\n",
      "|     15.42|1.57|  Male|    No|Sun|Dinner|   2|         10.18|\n",
      "|     18.43| 3.0|  Male|    No|Sun|Dinner|   4|         16.28|\n",
      "|     14.83|3.02|Female|    No|Sun|Dinner|   2|         20.36|\n",
      "|     21.58|3.92|  Male|    No|Sun|Dinner|   2|         18.16|\n",
      "|     10.33|1.67|Female|    No|Sun|Dinner|   3|         16.17|\n",
      "|     16.29|3.71|  Male|    No|Sun|Dinner|   3|         22.77|\n",
      "|     16.97| 3.5|Female|    No|Sun|Dinner|   3|         20.62|\n",
      "|     20.65|3.35|  Male|    No|Sat|Dinner|   3|         16.22|\n",
      "+----------+----+------+------+---+------+----+--------------+\n",
      "only showing top 20 rows\n",
      "\n"
     ]
    }
   ],
   "source": [
    "tips.withColumn('tip_percentage', round((tips.tip / tips.total_bill)*100,2)).show()"
   ]
  },
  {
   "cell_type": "markdown",
   "id": "a30fc529",
   "metadata": {},
   "source": [
    "### c. Calculate the average tip percentage for each combination of sex and smoker.\n",
    "Hint: Chain additional functions off the answer to part b"
   ]
  },
  {
   "cell_type": "code",
   "execution_count": 150,
   "id": "978b72f8",
   "metadata": {},
   "outputs": [
    {
     "name": "stdout",
     "output_type": "stream",
     "text": [
      "+----------+----+------+------+---+------+----+\n",
      "|total_bill| tip|   sex|smoker|day|  time|size|\n",
      "+----------+----+------+------+---+------+----+\n",
      "|     16.99|1.01|Female|    No|Sun|Dinner|   2|\n",
      "|     10.34|1.66|  Male|    No|Sun|Dinner|   3|\n",
      "|     21.01| 3.5|  Male|    No|Sun|Dinner|   3|\n",
      "|     23.68|3.31|  Male|    No|Sun|Dinner|   2|\n",
      "|     24.59|3.61|Female|    No|Sun|Dinner|   4|\n",
      "+----------+----+------+------+---+------+----+\n",
      "only showing top 5 rows\n",
      "\n"
     ]
    }
   ],
   "source": [
    "tips.show(5)"
   ]
  },
  {
   "cell_type": "code",
   "execution_count": 151,
   "id": "648ecda4",
   "metadata": {},
   "outputs": [
    {
     "name": "stdout",
     "output_type": "stream",
     "text": [
      "+------+------------------+------------------+\n",
      "|   sex|                No|               Yes|\n",
      "+------+------------------+------------------+\n",
      "|Female|15.691111111111113|18.214545454545455|\n",
      "|  Male| 16.06659793814433|15.276666666666667|\n",
      "+------+------------------+------------------+\n",
      "\n"
     ]
    }
   ],
   "source": [
    "tips.withColumn('tip_percentage', round((tips.tip / tips.total_bill)*100,2)).groupBy('sex').pivot('smoker').agg(mean('tip_percentage')).show()"
   ]
  },
  {
   "cell_type": "code",
   "execution_count": null,
   "id": "870e1e94",
   "metadata": {},
   "outputs": [],
   "source": []
  }
 ],
 "metadata": {
  "kernelspec": {
   "display_name": "Python 3",
   "language": "python",
   "name": "python3"
  },
  "language_info": {
   "codemirror_mode": {
    "name": "ipython",
    "version": 3
   },
   "file_extension": ".py",
   "mimetype": "text/x-python",
   "name": "python",
   "nbconvert_exporter": "python",
   "pygments_lexer": "ipython3",
   "version": "3.8.8"
  }
 },
 "nbformat": 4,
 "nbformat_minor": 5
}
